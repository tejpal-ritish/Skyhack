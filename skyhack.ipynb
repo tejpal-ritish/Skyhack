{
 "cells": [
  {
   "cell_type": "code",
   "execution_count": 1,
   "metadata": {},
   "outputs": [],
   "source": [
    "import pandas as pd\n",
    "import numpy as np\n",
    "import matplotlib.pyplot as plt\n",
    "import sklearn as sk\n",
    "import seaborn as sns"
   ]
  },
  {
   "cell_type": "code",
   "execution_count": 2,
   "metadata": {},
   "outputs": [],
   "source": [
    "calls = pd.read_csv('./data/callsf0d4f5a.csv')\n",
    "customers = pd.read_csv('data/customers2afd6ea.csv')\n",
    "reasons = pd.read_csv('data/reason18315ff.csv')\n",
    "sentiments = pd.read_csv('data/sentiment_statisticscc1e57a.csv')"
   ]
  },
  {
   "cell_type": "code",
   "execution_count": 3,
   "metadata": {},
   "outputs": [],
   "source": [
    "# Merge the data\n",
    "data = pd.merge(calls, customers, on='customer_id', how='left')\n",
    "data = pd.merge(data, reasons, on='call_id', how='left')\n",
    "data = pd.merge(data, sentiments, on='call_id', how='left')"
   ]
  },
  {
   "cell_type": "code",
   "execution_count": 4,
   "metadata": {},
   "outputs": [],
   "source": [
    "data = data.drop(columns=['agent_id_y'])\n",
    "data = data.rename(columns={'agent_id_x': 'agent_id'})"
   ]
  },
  {
   "cell_type": "code",
   "execution_count": 5,
   "metadata": {},
   "outputs": [
    {
     "name": "stdout",
     "output_type": "stream",
     "text": [
      "<class 'pandas.core.frame.DataFrame'>\n",
      "RangeIndex: 71810 entries, 0 to 71809\n",
      "Data columns (total 14 columns):\n",
      " #   Column                   Non-Null Count  Dtype  \n",
      "---  ------                   --------------  -----  \n",
      " 0   call_id                  71810 non-null  int64  \n",
      " 1   customer_id              71810 non-null  int64  \n",
      " 2   agent_id                 71810 non-null  int64  \n",
      " 3   call_start_datetime      71810 non-null  object \n",
      " 4   agent_assigned_datetime  71810 non-null  object \n",
      " 5   call_end_datetime        71810 non-null  object \n",
      " 6   call_transcript          71810 non-null  object \n",
      " 7   customer_name            71810 non-null  object \n",
      " 8   elite_level_code         46043 non-null  float64\n",
      " 9   primary_call_reason      66653 non-null  object \n",
      " 10  agent_tone               71593 non-null  object \n",
      " 11  customer_tone            71810 non-null  object \n",
      " 12  average_sentiment        71701 non-null  float64\n",
      " 13  silence_percent_average  71810 non-null  float64\n",
      "dtypes: float64(3), int64(3), object(8)\n",
      "memory usage: 7.7+ MB\n",
      "None\n"
     ]
    }
   ],
   "source": [
    "print(data.info())"
   ]
  },
  {
   "cell_type": "code",
   "execution_count": 6,
   "metadata": {},
   "outputs": [],
   "source": [
    "data['call_start_datetime'] = pd.to_datetime(data['call_start_datetime'])\n",
    "data['agent_assigned_datetime'] = pd.to_datetime(data['agent_assigned_datetime'])\n",
    "data['call_end_datetime'] = pd.to_datetime(data['call_end_datetime'])\n",
    "\n",
    "data['call_duration'] = (data['call_end_datetime'] - data['call_start_datetime']).dt.total_seconds()\n",
    "\n",
    "data['AHT'] = (data['call_end_datetime'] - data['agent_assigned_datetime']).dt.total_seconds()\n",
    "data['AST'] = (data['agent_assigned_datetime'] - data['call_start_datetime']).dt.total_seconds()"
   ]
  },
  {
   "cell_type": "code",
   "execution_count": 7,
   "metadata": {},
   "outputs": [],
   "source": [
    "data['duration_to_start'] = data['agent_assigned_datetime'] - data['call_start_datetime'] \n",
    "data['duration_to_start'] = data['duration_to_start'].dt.total_seconds()"
   ]
  },
  {
   "cell_type": "markdown",
   "metadata": {},
   "source": [
    "### Handling Missing Data\n",
    "#### ~~elite_level_code~~, primary_call_reason, agent_tone, average_sentiment"
   ]
  },
  {
   "cell_type": "code",
   "execution_count": 8,
   "metadata": {},
   "outputs": [
    {
     "name": "stdout",
     "output_type": "stream",
     "text": [
      "call_id                        0\n",
      "customer_id                    0\n",
      "agent_id                       0\n",
      "call_start_datetime            0\n",
      "agent_assigned_datetime        0\n",
      "call_end_datetime              0\n",
      "call_transcript                0\n",
      "customer_name                  0\n",
      "elite_level_code           25767\n",
      "primary_call_reason         5157\n",
      "agent_tone                   217\n",
      "customer_tone                  0\n",
      "average_sentiment            109\n",
      "silence_percent_average        0\n",
      "call_duration                  0\n",
      "AHT                            0\n",
      "AST                            0\n",
      "duration_to_start              0\n",
      "dtype: int64\n"
     ]
    }
   ],
   "source": [
    "# Check for missing values\n",
    "print(data.isnull().sum())"
   ]
  },
  {
   "cell_type": "code",
   "execution_count": 9,
   "metadata": {},
   "outputs": [
    {
     "data": {
      "text/html": [
       "<div>\n",
       "<style scoped>\n",
       "    .dataframe tbody tr th:only-of-type {\n",
       "        vertical-align: middle;\n",
       "    }\n",
       "\n",
       "    .dataframe tbody tr th {\n",
       "        vertical-align: top;\n",
       "    }\n",
       "\n",
       "    .dataframe thead th {\n",
       "        text-align: right;\n",
       "    }\n",
       "</style>\n",
       "<table border=\"1\" class=\"dataframe\">\n",
       "  <thead>\n",
       "    <tr style=\"text-align: right;\">\n",
       "      <th></th>\n",
       "      <th>call_id</th>\n",
       "      <th>customer_id</th>\n",
       "      <th>agent_id</th>\n",
       "      <th>call_start_datetime</th>\n",
       "      <th>agent_assigned_datetime</th>\n",
       "      <th>call_end_datetime</th>\n",
       "      <th>call_transcript</th>\n",
       "      <th>customer_name</th>\n",
       "      <th>elite_level_code</th>\n",
       "      <th>primary_call_reason</th>\n",
       "      <th>agent_tone</th>\n",
       "      <th>customer_tone</th>\n",
       "      <th>average_sentiment</th>\n",
       "      <th>silence_percent_average</th>\n",
       "      <th>call_duration</th>\n",
       "      <th>AHT</th>\n",
       "      <th>AST</th>\n",
       "      <th>duration_to_start</th>\n",
       "    </tr>\n",
       "  </thead>\n",
       "  <tbody>\n",
       "    <tr>\n",
       "      <th>1</th>\n",
       "      <td>1122072124</td>\n",
       "      <td>8186702651</td>\n",
       "      <td>519057</td>\n",
       "      <td>2024-08-01 00:03:00</td>\n",
       "      <td>2024-08-01 00:06:00</td>\n",
       "      <td>2024-08-01 00:18:00</td>\n",
       "      <td>\\n\\nAgent: Thank you for calling United Airlin...</td>\n",
       "      <td>Tammy Walters</td>\n",
       "      <td>NaN</td>\n",
       "      <td>Booking</td>\n",
       "      <td>calm</td>\n",
       "      <td>neutral</td>\n",
       "      <td>0.02</td>\n",
       "      <td>0.35</td>\n",
       "      <td>900.0</td>\n",
       "      <td>720.0</td>\n",
       "      <td>180.0</td>\n",
       "      <td>180.0</td>\n",
       "    </tr>\n",
       "    <tr>\n",
       "      <th>2</th>\n",
       "      <td>6834291559</td>\n",
       "      <td>2416856629</td>\n",
       "      <td>158319</td>\n",
       "      <td>2024-07-31 23:59:00</td>\n",
       "      <td>2024-08-01 00:07:00</td>\n",
       "      <td>2024-08-01 00:26:00</td>\n",
       "      <td>\\n\\nAgent: Thank you for calling United Airlin...</td>\n",
       "      <td>Jeffery Dixon</td>\n",
       "      <td>NaN</td>\n",
       "      <td>IRROPS</td>\n",
       "      <td>neutral</td>\n",
       "      <td>polite</td>\n",
       "      <td>-0.13</td>\n",
       "      <td>0.32</td>\n",
       "      <td>1620.0</td>\n",
       "      <td>1140.0</td>\n",
       "      <td>480.0</td>\n",
       "      <td>480.0</td>\n",
       "    </tr>\n",
       "    <tr>\n",
       "      <th>6</th>\n",
       "      <td>324593040</td>\n",
       "      <td>6774865122</td>\n",
       "      <td>519057</td>\n",
       "      <td>2024-08-01 00:08:00</td>\n",
       "      <td>2024-08-01 00:21:00</td>\n",
       "      <td>2024-08-01 00:34:00</td>\n",
       "      <td>\\n\\nAgent: Thank you for calling United Airlin...</td>\n",
       "      <td>James Lawrence</td>\n",
       "      <td>NaN</td>\n",
       "      <td>Checkout</td>\n",
       "      <td>neutral</td>\n",
       "      <td>frustrated</td>\n",
       "      <td>0.00</td>\n",
       "      <td>0.25</td>\n",
       "      <td>1560.0</td>\n",
       "      <td>780.0</td>\n",
       "      <td>780.0</td>\n",
       "      <td>780.0</td>\n",
       "    </tr>\n",
       "    <tr>\n",
       "      <th>9</th>\n",
       "      <td>4113684017</td>\n",
       "      <td>1528835057</td>\n",
       "      <td>158319</td>\n",
       "      <td>2024-08-01 00:20:00</td>\n",
       "      <td>2024-08-01 00:28:00</td>\n",
       "      <td>2024-08-01 00:37:00</td>\n",
       "      <td>\\n\\nAgent: Thank you for calling United Airlin...</td>\n",
       "      <td>Jonathan Parker</td>\n",
       "      <td>NaN</td>\n",
       "      <td>IRROPS</td>\n",
       "      <td>neutral</td>\n",
       "      <td>angry</td>\n",
       "      <td>-0.19</td>\n",
       "      <td>0.29</td>\n",
       "      <td>1020.0</td>\n",
       "      <td>540.0</td>\n",
       "      <td>480.0</td>\n",
       "      <td>480.0</td>\n",
       "    </tr>\n",
       "    <tr>\n",
       "      <th>11</th>\n",
       "      <td>7732610078</td>\n",
       "      <td>4029953261</td>\n",
       "      <td>488324</td>\n",
       "      <td>2024-08-01 00:23:00</td>\n",
       "      <td>2024-08-01 00:34:00</td>\n",
       "      <td>2024-08-01 01:32:00</td>\n",
       "      <td>\\n\\nAgent: Thank you for calling United Airlin...</td>\n",
       "      <td>Cassandra Flores</td>\n",
       "      <td>NaN</td>\n",
       "      <td>NaN</td>\n",
       "      <td>neutral</td>\n",
       "      <td>neutral</td>\n",
       "      <td>-0.06</td>\n",
       "      <td>0.58</td>\n",
       "      <td>4140.0</td>\n",
       "      <td>3480.0</td>\n",
       "      <td>660.0</td>\n",
       "      <td>660.0</td>\n",
       "    </tr>\n",
       "  </tbody>\n",
       "</table>\n",
       "</div>"
      ],
      "text/plain": [
       "       call_id  customer_id  agent_id call_start_datetime  \\\n",
       "1   1122072124   8186702651    519057 2024-08-01 00:03:00   \n",
       "2   6834291559   2416856629    158319 2024-07-31 23:59:00   \n",
       "6    324593040   6774865122    519057 2024-08-01 00:08:00   \n",
       "9   4113684017   1528835057    158319 2024-08-01 00:20:00   \n",
       "11  7732610078   4029953261    488324 2024-08-01 00:23:00   \n",
       "\n",
       "   agent_assigned_datetime   call_end_datetime  \\\n",
       "1      2024-08-01 00:06:00 2024-08-01 00:18:00   \n",
       "2      2024-08-01 00:07:00 2024-08-01 00:26:00   \n",
       "6      2024-08-01 00:21:00 2024-08-01 00:34:00   \n",
       "9      2024-08-01 00:28:00 2024-08-01 00:37:00   \n",
       "11     2024-08-01 00:34:00 2024-08-01 01:32:00   \n",
       "\n",
       "                                      call_transcript     customer_name  \\\n",
       "1   \\n\\nAgent: Thank you for calling United Airlin...     Tammy Walters   \n",
       "2   \\n\\nAgent: Thank you for calling United Airlin...     Jeffery Dixon   \n",
       "6   \\n\\nAgent: Thank you for calling United Airlin...    James Lawrence   \n",
       "9   \\n\\nAgent: Thank you for calling United Airlin...   Jonathan Parker   \n",
       "11  \\n\\nAgent: Thank you for calling United Airlin...  Cassandra Flores   \n",
       "\n",
       "    elite_level_code primary_call_reason agent_tone customer_tone  \\\n",
       "1                NaN             Booking       calm       neutral   \n",
       "2                NaN              IRROPS    neutral        polite   \n",
       "6                NaN            Checkout    neutral    frustrated   \n",
       "9                NaN              IRROPS    neutral         angry   \n",
       "11               NaN                 NaN    neutral       neutral   \n",
       "\n",
       "    average_sentiment  silence_percent_average  call_duration     AHT    AST  \\\n",
       "1                0.02                     0.35          900.0   720.0  180.0   \n",
       "2               -0.13                     0.32         1620.0  1140.0  480.0   \n",
       "6                0.00                     0.25         1560.0   780.0  780.0   \n",
       "9               -0.19                     0.29         1020.0   540.0  480.0   \n",
       "11              -0.06                     0.58         4140.0  3480.0  660.0   \n",
       "\n",
       "    duration_to_start  \n",
       "1               180.0  \n",
       "2               480.0  \n",
       "6               780.0  \n",
       "9               480.0  \n",
       "11              660.0  "
      ]
     },
     "execution_count": 9,
     "metadata": {},
     "output_type": "execute_result"
    }
   ],
   "source": [
    "# Print the first five instances of the data where the elite_level_code is missing\n",
    "data[data['elite_level_code'].isnull()].head()"
   ]
  },
  {
   "cell_type": "code",
   "execution_count": 10,
   "metadata": {},
   "outputs": [
    {
     "data": {
      "text/plain": [
       "elite_level_code\n",
       "0.0    14387\n",
       "1.0    14370\n",
       "2.0     8028\n",
       "3.0     5736\n",
       "4.0     2125\n",
       "5.0     1397\n",
       "Name: count, dtype: int64"
      ]
     },
     "execution_count": 10,
     "metadata": {},
     "output_type": "execute_result"
    }
   ],
   "source": [
    "data['elite_level_code'].value_counts()"
   ]
  },
  {
   "cell_type": "code",
   "execution_count": 11,
   "metadata": {},
   "outputs": [],
   "source": [
    "# Assuming that the missing values denote no membership, we can fill the missing values with 0.0\n",
    "elite_code_mode = data['elite_level_code'].mode()[0]\n",
    "data['elite_level_code'] = data['elite_level_code'].fillna(elite_code_mode)"
   ]
  },
  {
   "cell_type": "code",
   "execution_count": 12,
   "metadata": {},
   "outputs": [
    {
     "data": {
      "text/plain": [
       "primary_call_reason\n",
       "IRROPS                     13057\n",
       "Voluntary Change           10291\n",
       "Seating                     6223\n",
       "Mileage Plus                5487\n",
       "Post-Flight                 3869\n",
       "Communications              3779\n",
       "Products and Services       2792\n",
       "Upgrade                     2682\n",
       "Baggage                     2616\n",
       "Booking                     2589\n",
       "Checkout                    1840\n",
       "Check-In                    1490\n",
       "Voluntary Cancel            1304\n",
       "Digital Support              996\n",
       "ETC                          930\n",
       "Traveler Updates             772\n",
       "Schedule Change              707\n",
       "Other Topics                 568\n",
       "Products & Services          476\n",
       "Disability                   394\n",
       "Check In                     385\n",
       "Post Flight                  373\n",
       "Voluntary  Cancel            278\n",
       "IRROPS                       254\n",
       "Other  Topics                234\n",
       "Voluntary Change             208\n",
       "Voluntary   Change           200\n",
       "Voluntary  Change            149\n",
       "Seating                      142\n",
       "Digital   Support            136\n",
       "Mileage  Plus                135\n",
       "Baggage                      130\n",
       "Mileage   Plus               129\n",
       "Traveler   Updates           117\n",
       "Unaccompanied Minor          103\n",
       "Mileage Plus                 100\n",
       "Post-Flight                   88\n",
       " Baggage                      86\n",
       "Digital  Support              75\n",
       "Products and Services         64\n",
       "Communications                61\n",
       "Upgrade                       56\n",
       "Checkout                      48\n",
       "Booking                       48\n",
       "Traveler  Updates             38\n",
       "Check-In                      29\n",
       "Voluntary Cancel              25\n",
       "Schedule Change               24\n",
       "ETC                           22\n",
       "Digital Support               18\n",
       "Other Topics                  16\n",
       "Traveler Updates              10\n",
       "Disability                     9\n",
       "Unaccompanied Minor            1\n",
       "Name: count, dtype: int64"
      ]
     },
     "execution_count": 12,
     "metadata": {},
     "output_type": "execute_result"
    }
   ],
   "source": [
    "data['primary_call_reason'].value_counts()"
   ]
  },
  {
   "cell_type": "markdown",
   "metadata": {},
   "source": [
    "### Percentage difference between the average handling time for the most frequent and least frequent call reasons"
   ]
  },
  {
   "cell_type": "code",
   "execution_count": 13,
   "metadata": {},
   "outputs": [
    {
     "name": "stdout",
     "output_type": "stream",
     "text": [
      "                       mean_AHT    mean_AST\n",
      "primary_call_reason                        \n",
      "IRROPS               785.491307  360.174619\n",
      "Mileage Plus         995.724440  361.224713\n",
      "Post-Flight          928.410442  569.294391\n",
      "Seating              475.728748  570.814720\n",
      "Voluntary Change     639.564668  540.810417\n"
     ]
    }
   ],
   "source": [
    "# Analyze the relationship between volume and AHT/AST\n",
    "call_reason_volume = data['primary_call_reason'].value_counts()\n",
    "high_volume_reasons = call_reason_volume.index[:5]  # Top 5 most frequent reasons\n",
    "\n",
    "high_volume_stats = data[data['primary_call_reason'].isin(high_volume_reasons)].groupby('primary_call_reason').agg(\n",
    "    mean_AHT=('AHT', 'mean'),\n",
    "    mean_AST=('AST', 'mean')\n",
    ")\n",
    "\n",
    "print(high_volume_stats)"
   ]
  },
  {
   "cell_type": "code",
   "execution_count": 14,
   "metadata": {},
   "outputs": [
    {
     "name": "stdout",
     "output_type": "stream",
     "text": [
      "Percentage difference in AHT between most and least frequent call reasons: 336.38%\n"
     ]
    }
   ],
   "source": [
    "# Most and least frequent call reasons\n",
    "most_frequent_reason = call_reason_volume.idxmax()\n",
    "least_frequent_reason = call_reason_volume.idxmin()\n",
    "\n",
    "# Calculate mean AHT for these reasons\n",
    "most_frequent_aht = data[data['primary_call_reason'] == most_frequent_reason]['AHT'].mean()\n",
    "least_frequent_aht = data[data['primary_call_reason'] == least_frequent_reason]['AHT'].mean()\n",
    "\n",
    "# Calculate percentage difference\n",
    "percentage_difference_aht = ((most_frequent_aht - least_frequent_aht) / least_frequent_aht) * 100\n",
    "print(f\"Percentage difference in AHT between most and least frequent call reasons: {percentage_difference_aht:.2f}%\")\n"
   ]
  },
  {
   "cell_type": "markdown",
   "metadata": {},
   "source": [
    "### Analysing Sentiment as a key factor"
   ]
  },
  {
   "cell_type": "code",
   "execution_count": 15,
   "metadata": {},
   "outputs": [
    {
     "name": "stdout",
     "output_type": "stream",
     "text": [
      "  customer_tone agent_tone primary_call_reason  mean_AHT    mean_AST\n",
      "0         angry      angry             Baggage     180.0  540.000000\n",
      "1         angry      angry             Baggage      60.0  540.000000\n",
      "2         angry      angry            Check-In     510.0  300.000000\n",
      "3         angry      angry            Checkout     600.0  737.142857\n",
      "4         angry      angry      Communications     375.0  210.000000\n"
     ]
    }
   ],
   "source": [
    "# Group by customer_tone, agent_tone, and primary_call_reason to calculate mean AHT and AST\n",
    "sentiment_stats = data.groupby(['customer_tone', 'agent_tone', 'primary_call_reason']).agg(\n",
    "    mean_AHT=('AHT', 'mean'),\n",
    "    mean_AST=('AST', 'mean')\n",
    ").reset_index()\n",
    "\n",
    "# Display the top few rows for an overview\n",
    "print(sentiment_stats.head())"
   ]
  },
  {
   "cell_type": "code",
   "execution_count": 16,
   "metadata": {},
   "outputs": [
    {
     "data": {
      "image/png": "[encoded data removed]",
      "text/plain": [
       "<Figure size 1000x800 with 2 Axes>"
      ]
     },
     "metadata": {},
     "output_type": "display_data"
    }
   ],
   "source": [
    "heatmap_data_aht = sentiment_stats.pivot_table(index='customer_tone', columns='agent_tone', values='mean_AHT')\n",
    "\n",
    "plt.figure(figsize=(10, 8))\n",
    "sns.heatmap(heatmap_data_aht, annot=True, fmt=\".1f\", cmap='coolwarm')\n",
    "plt.title('Mean AHT by Customer and Agent Tone')\n",
    "plt.ylabel('Customer Tone')\n",
    "plt.xlabel('Agent Tone')\n",
    "plt.show()"
   ]
  },
  {
   "cell_type": "code",
   "execution_count": 17,
   "metadata": {},
   "outputs": [
    {
     "data": {
      "image/png": "[encoded data removed]",
      "text/plain": [
       "<Figure size 1000x800 with 2 Axes>"
      ]
     },
     "metadata": {},
     "output_type": "display_data"
    }
   ],
   "source": [
    "# Create a pivot table for mean AST\n",
    "heatmap_data_ast = sentiment_stats.pivot_table(index='customer_tone', columns='agent_tone', values='mean_AST')\n",
    "\n",
    "plt.figure(figsize=(10, 8))\n",
    "sns.heatmap(heatmap_data_ast, annot=True, fmt=\".1f\", cmap='coolwarm')\n",
    "plt.title('Mean AST by Customer and Agent Tone')\n",
    "plt.ylabel('Customer Tone')\n",
    "plt.xlabel('Agent Tone')\n",
    "plt.show()\n"
   ]
  },
  {
   "cell_type": "markdown",
   "metadata": {},
   "source": [
    "### Analysing agent_id as a factor"
   ]
  },
  {
   "cell_type": "code",
   "execution_count": 18,
   "metadata": {},
   "outputs": [
    {
     "name": "stdout",
     "output_type": "stream",
     "text": [
      "     agent_id  mean_AHT  mean_AST  total_calls\n",
      "0      102574    3600.0     480.0            2\n",
      "160    506130    2880.0     420.0            1\n",
      "60     255256    2620.0     280.0            3\n",
      "16     140146    2620.0     360.0            3\n",
      "187    558705    1980.0     420.0            2\n"
     ]
    }
   ],
   "source": [
    "# Calculate Mean AHT and AST by Agent\n",
    "agent_performance = data.groupby('agent_id').agg(\n",
    "    mean_AHT=('AHT', 'mean'),\n",
    "    mean_AST=('AST', 'mean'),\n",
    "    total_calls=('call_id', 'count')\n",
    ").reset_index()\n",
    "\n",
    "# Display the top few rows for an overview\n",
    "print(agent_performance.sort_values(by='mean_AHT', ascending=False).head())"
   ]
  },
  {
   "cell_type": "code",
   "execution_count": 19,
   "metadata": {},
   "outputs": [
    {
     "name": "stdout",
     "output_type": "stream",
     "text": [
      "Top Performers (Lowest AHT):\n",
      "     agent_id    mean_AHT    mean_AST  total_calls\n",
      "184    547592  180.000000  600.000000            1\n",
      "210    616988  285.000000  255.000000            4\n",
      "23     161354  360.000000  420.000000            2\n",
      "48     229129  373.333333  386.666667            9\n",
      "238    676262  390.000000  450.000000            8\n",
      "\n",
      "Bottom Performers (Highest AHT):\n",
      "     agent_id  mean_AHT  mean_AST  total_calls\n",
      "0      102574    3600.0     480.0            2\n",
      "160    506130    2880.0     420.0            1\n",
      "16     140146    2620.0     360.0            3\n",
      "60     255256    2620.0     280.0            3\n",
      "187    558705    1980.0     420.0            2\n"
     ]
    }
   ],
   "source": [
    "# Identify top performers (lowest AHT)\n",
    "top_performers = agent_performance.nsmallest(5, 'mean_AHT')\n",
    "\n",
    "# Identify bottom performers (highest AHT)\n",
    "bottom_performers = agent_performance.nlargest(5, 'mean_AHT')\n",
    "\n",
    "print(\"Top Performers (Lowest AHT):\")\n",
    "print(top_performers)\n",
    "\n",
    "print(\"\\nBottom Performers (Highest AHT):\")\n",
    "print(bottom_performers)\n"
   ]
  },
  {
   "cell_type": "code",
   "execution_count": 20,
   "metadata": {},
   "outputs": [
    {
     "name": "stdout",
     "output_type": "stream",
     "text": [
      "Top Performer Call Reasons:\n",
      "  primary_call_reason  agent_id  mean_AHT  mean_AST  total_calls\n",
      "0             Baggage    161354     480.0     480.0            1\n",
      "1            Check In    229129     120.0     480.0            1\n",
      "2            Check In    616988     300.0     240.0            1\n",
      "3            Checkout    676262     660.0     840.0            1\n",
      "4      Communications    229129     120.0     300.0            2\n",
      "\n",
      "Bottom Performer Call Reasons:\n",
      "  primary_call_reason  agent_id  mean_AHT  mean_AST  total_calls\n",
      "0             Booking    255256    5400.0     180.0            1\n",
      "1              IRROPS    102574     300.0     420.0            1\n",
      "2              IRROPS    140146     300.0     300.0            1\n",
      "3              IRROPS    558705    1920.0     300.0            1\n",
      "4       Mileage  Plus    140146    1320.0     300.0            1\n"
     ]
    }
   ],
   "source": [
    "# Merge with original data to analyze call reasons and customer tones\n",
    "top_agents_data = data[data['agent_id'].isin(top_performers['agent_id'])]\n",
    "bottom_agents_data = data[data['agent_id'].isin(bottom_performers['agent_id'])]\n",
    "\n",
    "# Group by primary_call_reason and agent_id for top performers\n",
    "top_agent_reasons = top_agents_data.groupby(['primary_call_reason', 'agent_id']).agg(\n",
    "    mean_AHT=('AHT', 'mean'),\n",
    "    mean_AST=('AST', 'mean'),\n",
    "    total_calls=('call_id', 'count')\n",
    ").reset_index()\n",
    "\n",
    "# Group by primary_call_reason and agent_id for bottom performers\n",
    "bottom_agent_reasons = bottom_agents_data.groupby(['primary_call_reason', 'agent_id']).agg(\n",
    "    mean_AHT=('AHT', 'mean'),\n",
    "    mean_AST=('AST', 'mean'),\n",
    "    total_calls=('call_id', 'count')\n",
    ").reset_index()\n",
    "\n",
    "# Display the results for top and bottom performer reasons\n",
    "print(\"Top Performer Call Reasons:\")\n",
    "print(top_agent_reasons.head())\n",
    "\n",
    "print(\"\\nBottom Performer Call Reasons:\")\n",
    "print(bottom_agent_reasons.head())\n"
   ]
  },
  {
   "cell_type": "code",
   "execution_count": 21,
   "metadata": {},
   "outputs": [],
   "source": [
    "mean_AHT = data['AHT'].mean()\n",
    "mean_AST = data['AST'].mean()"
   ]
  },
  {
   "cell_type": "code",
   "execution_count": 22,
   "metadata": {},
   "outputs": [],
   "source": [
    "data['handle_time'] = (data['call_end_datetime'] - data['call_start_datetime']).dt.total_seconds()\n",
    "data['waiting_time'] = (data['agent_assigned_datetime'] - data['call_start_datetime']).dt.total_seconds()\n",
    "\n",
    "mean_AHT = data.groupby(['customer_tone', 'agent_tone'])['handle_time'].mean().reset_index()\n",
    "mean_AST = data.groupby(['customer_tone', 'agent_tone'])['waiting_time'].mean().reset_index()\n",
    "\n",
    "# Merge mean_AHT and mean_AST into a single DataFrame\n",
    "sentiment_analysis = pd.merge(mean_AHT, mean_AST, on=['customer_tone', 'agent_tone'])\n",
    "sentiment_analysis.columns = ['customer_tone', 'agent_tone', 'mean_AHT', 'mean_AST']\n"
   ]
  },
  {
   "cell_type": "code",
   "execution_count": 23,
   "metadata": {},
   "outputs": [
    {
     "data": {
      "text/html": [
       "<div>\n",
       "<style scoped>\n",
       "    .dataframe tbody tr th:only-of-type {\n",
       "        vertical-align: middle;\n",
       "    }\n",
       "\n",
       "    .dataframe tbody tr th {\n",
       "        vertical-align: top;\n",
       "    }\n",
       "\n",
       "    .dataframe thead th {\n",
       "        text-align: right;\n",
       "    }\n",
       "</style>\n",
       "<table border=\"1\" class=\"dataframe\">\n",
       "  <thead>\n",
       "    <tr style=\"text-align: right;\">\n",
       "      <th></th>\n",
       "      <th>customer_tone</th>\n",
       "      <th>agent_tone</th>\n",
       "      <th>mean_AHT</th>\n",
       "      <th>mean_AST</th>\n",
       "      <th>total_calls</th>\n",
       "    </tr>\n",
       "  </thead>\n",
       "  <tbody>\n",
       "    <tr>\n",
       "      <th>0</th>\n",
       "      <td>angry</td>\n",
       "      <td>angry</td>\n",
       "      <td>941.298701</td>\n",
       "      <td>443.376623</td>\n",
       "      <td>77</td>\n",
       "    </tr>\n",
       "    <tr>\n",
       "      <th>1</th>\n",
       "      <td>angry</td>\n",
       "      <td>calm</td>\n",
       "      <td>1060.093458</td>\n",
       "      <td>443.661113</td>\n",
       "      <td>4922</td>\n",
       "    </tr>\n",
       "    <tr>\n",
       "      <th>2</th>\n",
       "      <td>angry</td>\n",
       "      <td>frustrated</td>\n",
       "      <td>1054.426230</td>\n",
       "      <td>423.770492</td>\n",
       "      <td>732</td>\n",
       "    </tr>\n",
       "    <tr>\n",
       "      <th>3</th>\n",
       "      <td>angry</td>\n",
       "      <td>neutral</td>\n",
       "      <td>1183.966117</td>\n",
       "      <td>433.325598</td>\n",
       "      <td>8618</td>\n",
       "    </tr>\n",
       "    <tr>\n",
       "      <th>4</th>\n",
       "      <td>angry</td>\n",
       "      <td>polite</td>\n",
       "      <td>796.666667</td>\n",
       "      <td>456.666667</td>\n",
       "      <td>18</td>\n",
       "    </tr>\n",
       "    <tr>\n",
       "      <th>5</th>\n",
       "      <td>calm</td>\n",
       "      <td>angry</td>\n",
       "      <td>784.411765</td>\n",
       "      <td>431.470588</td>\n",
       "      <td>68</td>\n",
       "    </tr>\n",
       "    <tr>\n",
       "      <th>6</th>\n",
       "      <td>calm</td>\n",
       "      <td>calm</td>\n",
       "      <td>1076.518235</td>\n",
       "      <td>441.603869</td>\n",
       "      <td>4963</td>\n",
       "    </tr>\n",
       "    <tr>\n",
       "      <th>7</th>\n",
       "      <td>calm</td>\n",
       "      <td>frustrated</td>\n",
       "      <td>1030.275762</td>\n",
       "      <td>422.264151</td>\n",
       "      <td>689</td>\n",
       "    </tr>\n",
       "    <tr>\n",
       "      <th>8</th>\n",
       "      <td>calm</td>\n",
       "      <td>neutral</td>\n",
       "      <td>1186.753065</td>\n",
       "      <td>436.749562</td>\n",
       "      <td>8565</td>\n",
       "    </tr>\n",
       "    <tr>\n",
       "      <th>9</th>\n",
       "      <td>calm</td>\n",
       "      <td>polite</td>\n",
       "      <td>670.588235</td>\n",
       "      <td>532.941176</td>\n",
       "      <td>17</td>\n",
       "    </tr>\n",
       "    <tr>\n",
       "      <th>10</th>\n",
       "      <td>frustrated</td>\n",
       "      <td>angry</td>\n",
       "      <td>824.651163</td>\n",
       "      <td>434.651163</td>\n",
       "      <td>86</td>\n",
       "    </tr>\n",
       "    <tr>\n",
       "      <th>11</th>\n",
       "      <td>frustrated</td>\n",
       "      <td>calm</td>\n",
       "      <td>1072.306748</td>\n",
       "      <td>442.809816</td>\n",
       "      <td>4890</td>\n",
       "    </tr>\n",
       "    <tr>\n",
       "      <th>12</th>\n",
       "      <td>frustrated</td>\n",
       "      <td>frustrated</td>\n",
       "      <td>1004.131579</td>\n",
       "      <td>425.684211</td>\n",
       "      <td>760</td>\n",
       "    </tr>\n",
       "    <tr>\n",
       "      <th>13</th>\n",
       "      <td>frustrated</td>\n",
       "      <td>neutral</td>\n",
       "      <td>1179.578549</td>\n",
       "      <td>434.206227</td>\n",
       "      <td>8447</td>\n",
       "    </tr>\n",
       "    <tr>\n",
       "      <th>14</th>\n",
       "      <td>frustrated</td>\n",
       "      <td>polite</td>\n",
       "      <td>652.500000</td>\n",
       "      <td>450.000000</td>\n",
       "      <td>16</td>\n",
       "    </tr>\n",
       "    <tr>\n",
       "      <th>15</th>\n",
       "      <td>neutral</td>\n",
       "      <td>angry</td>\n",
       "      <td>756.750000</td>\n",
       "      <td>409.500000</td>\n",
       "      <td>80</td>\n",
       "    </tr>\n",
       "    <tr>\n",
       "      <th>16</th>\n",
       "      <td>neutral</td>\n",
       "      <td>calm</td>\n",
       "      <td>1073.401565</td>\n",
       "      <td>445.538832</td>\n",
       "      <td>4983</td>\n",
       "    </tr>\n",
       "    <tr>\n",
       "      <th>17</th>\n",
       "      <td>neutral</td>\n",
       "      <td>frustrated</td>\n",
       "      <td>1087.035040</td>\n",
       "      <td>432.857143</td>\n",
       "      <td>742</td>\n",
       "    </tr>\n",
       "    <tr>\n",
       "      <th>18</th>\n",
       "      <td>neutral</td>\n",
       "      <td>neutral</td>\n",
       "      <td>1198.644147</td>\n",
       "      <td>433.998835</td>\n",
       "      <td>8585</td>\n",
       "    </tr>\n",
       "    <tr>\n",
       "      <th>19</th>\n",
       "      <td>neutral</td>\n",
       "      <td>polite</td>\n",
       "      <td>670.588235</td>\n",
       "      <td>437.647059</td>\n",
       "      <td>17</td>\n",
       "    </tr>\n",
       "    <tr>\n",
       "      <th>20</th>\n",
       "      <td>polite</td>\n",
       "      <td>angry</td>\n",
       "      <td>788.461538</td>\n",
       "      <td>406.923077</td>\n",
       "      <td>78</td>\n",
       "    </tr>\n",
       "    <tr>\n",
       "      <th>21</th>\n",
       "      <td>polite</td>\n",
       "      <td>calm</td>\n",
       "      <td>1067.736425</td>\n",
       "      <td>444.014643</td>\n",
       "      <td>4917</td>\n",
       "    </tr>\n",
       "    <tr>\n",
       "      <th>22</th>\n",
       "      <td>polite</td>\n",
       "      <td>frustrated</td>\n",
       "      <td>1031.984231</td>\n",
       "      <td>417.398160</td>\n",
       "      <td>761</td>\n",
       "    </tr>\n",
       "    <tr>\n",
       "      <th>23</th>\n",
       "      <td>polite</td>\n",
       "      <td>neutral</td>\n",
       "      <td>1174.533536</td>\n",
       "      <td>433.941238</td>\n",
       "      <td>8543</td>\n",
       "    </tr>\n",
       "    <tr>\n",
       "      <th>24</th>\n",
       "      <td>polite</td>\n",
       "      <td>polite</td>\n",
       "      <td>615.789474</td>\n",
       "      <td>432.631579</td>\n",
       "      <td>19</td>\n",
       "    </tr>\n",
       "  </tbody>\n",
       "</table>\n",
       "</div>"
      ],
      "text/plain": [
       "   customer_tone  agent_tone     mean_AHT    mean_AST  total_calls\n",
       "0          angry       angry   941.298701  443.376623           77\n",
       "1          angry        calm  1060.093458  443.661113         4922\n",
       "2          angry  frustrated  1054.426230  423.770492          732\n",
       "3          angry     neutral  1183.966117  433.325598         8618\n",
       "4          angry      polite   796.666667  456.666667           18\n",
       "5           calm       angry   784.411765  431.470588           68\n",
       "6           calm        calm  1076.518235  441.603869         4963\n",
       "7           calm  frustrated  1030.275762  422.264151          689\n",
       "8           calm     neutral  1186.753065  436.749562         8565\n",
       "9           calm      polite   670.588235  532.941176           17\n",
       "10    frustrated       angry   824.651163  434.651163           86\n",
       "11    frustrated        calm  1072.306748  442.809816         4890\n",
       "12    frustrated  frustrated  1004.131579  425.684211          760\n",
       "13    frustrated     neutral  1179.578549  434.206227         8447\n",
       "14    frustrated      polite   652.500000  450.000000           16\n",
       "15       neutral       angry   756.750000  409.500000           80\n",
       "16       neutral        calm  1073.401565  445.538832         4983\n",
       "17       neutral  frustrated  1087.035040  432.857143          742\n",
       "18       neutral     neutral  1198.644147  433.998835         8585\n",
       "19       neutral      polite   670.588235  437.647059           17\n",
       "20        polite       angry   788.461538  406.923077           78\n",
       "21        polite        calm  1067.736425  444.014643         4917\n",
       "22        polite  frustrated  1031.984231  417.398160          761\n",
       "23        polite     neutral  1174.533536  433.941238         8543\n",
       "24        polite      polite   615.789474  432.631579           19"
      ]
     },
     "execution_count": 23,
     "metadata": {},
     "output_type": "execute_result"
    }
   ],
   "source": [
    "sentiment_analysis['total_calls'] = data.groupby(['customer_tone', 'agent_tone'])['call_id'].count().values\n",
    "sentiment_analysis"
   ]
  },
  {
   "cell_type": "code",
   "execution_count": 24,
   "metadata": {},
   "outputs": [
    {
     "name": "stdout",
     "output_type": "stream",
     "text": [
      "<class 'pandas.core.frame.DataFrame'>\n",
      "RangeIndex: 71810 entries, 0 to 71809\n",
      "Data columns (total 20 columns):\n",
      " #   Column                   Non-Null Count  Dtype         \n",
      "---  ------                   --------------  -----         \n",
      " 0   call_id                  71810 non-null  int64         \n",
      " 1   customer_id              71810 non-null  int64         \n",
      " 2   agent_id                 71810 non-null  int64         \n",
      " 3   call_start_datetime      71810 non-null  datetime64[ns]\n",
      " 4   agent_assigned_datetime  71810 non-null  datetime64[ns]\n",
      " 5   call_end_datetime        71810 non-null  datetime64[ns]\n",
      " 6   call_transcript          71810 non-null  object        \n",
      " 7   customer_name            71810 non-null  object        \n",
      " 8   elite_level_code         71810 non-null  float64       \n",
      " 9   primary_call_reason      66653 non-null  object        \n",
      " 10  agent_tone               71593 non-null  object        \n",
      " 11  customer_tone            71810 non-null  object        \n",
      " 12  average_sentiment        71701 non-null  float64       \n",
      " 13  silence_percent_average  71810 non-null  float64       \n",
      " 14  call_duration            71810 non-null  float64       \n",
      " 15  AHT                      71810 non-null  float64       \n",
      " 16  AST                      71810 non-null  float64       \n",
      " 17  duration_to_start        71810 non-null  float64       \n",
      " 18  handle_time              71810 non-null  float64       \n",
      " 19  waiting_time             71810 non-null  float64       \n",
      "dtypes: datetime64[ns](3), float64(9), int64(3), object(5)\n",
      "memory usage: 11.0+ MB\n"
     ]
    }
   ],
   "source": [
    "data.info()"
   ]
  },
  {
   "cell_type": "code",
   "execution_count": 26,
   "metadata": {},
   "outputs": [
    {
     "name": "stdout",
     "output_type": "stream",
     "text": [
      "count    71701.000000\n",
      "mean        -0.033519\n",
      "std          0.143715\n",
      "min         -1.380000\n",
      "25%         -0.110000\n",
      "50%         -0.020000\n",
      "75%          0.050000\n",
      "max          2.670000\n",
      "Name: average_sentiment, dtype: float64\n"
     ]
    }
   ],
   "source": [
    "# Print the distribution of average_sentiment\n",
    "print(data['average_sentiment'].describe())"
   ]
  },
  {
   "cell_type": "markdown",
   "metadata": {},
   "source": [
    "### Analysis based on average_sentiment"
   ]
  },
  {
   "cell_type": "code",
   "execution_count": 27,
   "metadata": {},
   "outputs": [],
   "source": [
    "# Categorize average_sentiment into 'Negative', 'Neutral', 'Positive'\n",
    "bins_sentiment = [-float('inf'), -0.1, 0.05, float('inf')]  # Adjusted based on data distribution\n",
    "labels_sentiment = ['Negative', 'Neutral', 'Positive']\n",
    "data['sentiment_category'] = pd.cut(data['average_sentiment'], bins=bins_sentiment, labels=labels_sentiment)"
   ]
  },
  {
   "cell_type": "code",
   "execution_count": 28,
   "metadata": {},
   "outputs": [],
   "source": [
    "data['call_duration'] = (pd.to_datetime(data['call_end_datetime']) - pd.to_datetime(data['call_start_datetime'])).dt.total_seconds()\n",
    "data['wait_time'] = (pd.to_datetime(data['agent_assigned_datetime']) - pd.to_datetime(data['call_start_datetime'])).dt.total_seconds()"
   ]
  },
  {
   "cell_type": "code",
   "execution_count": 29,
   "metadata": {},
   "outputs": [],
   "source": [
    "sentiment_impact = data.groupby('sentiment_category').agg(\n",
    "    mean_AHT=('call_duration', 'mean'),\n",
    "    mean_AST=('wait_time', 'mean'),\n",
    "    total_calls=('call_id', 'count')\n",
    ").reset_index()"
   ]
  },
  {
   "cell_type": "code",
   "execution_count": 30,
   "metadata": {},
   "outputs": [
    {
     "data": {
      "text/html": [
       "<div>\n",
       "<style scoped>\n",
       "    .dataframe tbody tr th:only-of-type {\n",
       "        vertical-align: middle;\n",
       "    }\n",
       "\n",
       "    .dataframe tbody tr th {\n",
       "        vertical-align: top;\n",
       "    }\n",
       "\n",
       "    .dataframe thead th {\n",
       "        text-align: right;\n",
       "    }\n",
       "</style>\n",
       "<table border=\"1\" class=\"dataframe\">\n",
       "  <thead>\n",
       "    <tr style=\"text-align: right;\">\n",
       "      <th></th>\n",
       "      <th>sentiment_category</th>\n",
       "      <th>mean_AHT</th>\n",
       "      <th>mean_AST</th>\n",
       "      <th>total_calls</th>\n",
       "    </tr>\n",
       "  </thead>\n",
       "  <tbody>\n",
       "    <tr>\n",
       "      <th>0</th>\n",
       "      <td>Negative</td>\n",
       "      <td>1164.152355</td>\n",
       "      <td>429.832193</td>\n",
       "      <td>20321</td>\n",
       "    </tr>\n",
       "    <tr>\n",
       "      <th>1</th>\n",
       "      <td>Neutral</td>\n",
       "      <td>1192.114589</td>\n",
       "      <td>436.832254</td>\n",
       "      <td>35047</td>\n",
       "    </tr>\n",
       "    <tr>\n",
       "      <th>2</th>\n",
       "      <td>Positive</td>\n",
       "      <td>973.720688</td>\n",
       "      <td>446.464214</td>\n",
       "      <td>16333</td>\n",
       "    </tr>\n",
       "  </tbody>\n",
       "</table>\n",
       "</div>"
      ],
      "text/plain": [
       "  sentiment_category     mean_AHT    mean_AST  total_calls\n",
       "0           Negative  1164.152355  429.832193        20321\n",
       "1            Neutral  1192.114589  436.832254        35047\n",
       "2           Positive   973.720688  446.464214        16333"
      ]
     },
     "execution_count": 30,
     "metadata": {},
     "output_type": "execute_result"
    }
   ],
   "source": [
    "sentiment_impact"
   ]
  },
  {
   "cell_type": "code",
   "execution_count": 36,
   "metadata": {},
   "outputs": [
    {
     "data": {
      "image/png": "[encoded data removed]",
      "text/plain": [
       "<Figure size 1000x600 with 1 Axes>"
      ]
     },
     "metadata": {},
     "output_type": "display_data"
    }
   ],
   "source": [
    "bins_silence = [0, 0.1, 0.2, float('inf')]  # Define bins for silence percent average\n",
    "labels_silence = ['Low', 'Medium', 'High']  # Define corresponding labels\n",
    "data['silence_category'] = pd.cut(data['silence_percent_average'], bins=bins_silence, labels=labels_silence)\n",
    "\n",
    "# Step 2: Create a pivot table to analyze mean AHT and mean AST by silence categories\n",
    "silence_pivot_table = data.pivot_table(\n",
    "    index='silence_category',\n",
    "    values=['call_duration', 'wait_time', 'call_id'],\n",
    "    aggfunc={\n",
    "        'call_duration': 'mean',  # Mean AHT\n",
    "        'wait_time': 'mean',       # Mean AST\n",
    "        'call_id': 'count'         # Total calls\n",
    "    }\n",
    ").reset_index()\n",
    "\n",
    "# Rename the columns for clarity\n",
    "silence_pivot_table.columns = ['silence_category', 'mean_AHT', 'mean_AST', 'total_calls']\n",
    "\n",
    "# Step 3: Plotting the results\n",
    "fig, ax = plt.subplots(figsize=(10, 6))\n",
    "\n",
    "# Bar width\n",
    "bar_width = 0.35\n",
    "index = range(len(silence_pivot_table))\n",
    "\n",
    "# Plotting mean AHT\n",
    "ax.bar(index, silence_pivot_table['mean_AHT'], bar_width, label='Mean AHT', color='b', alpha=0.6)\n",
    "\n",
    "# Plotting mean AST next to AHT bars\n",
    "ax.bar([i + bar_width for i in index], silence_pivot_table['mean_AST'], bar_width, label='Mean AST', color='r', alpha=0.6)\n",
    "\n",
    "# Adding labels and title\n",
    "ax.set_xlabel('Silence Category')\n",
    "ax.set_ylabel('Mean Values')\n",
    "ax.set_title('Impact of Silence Percent Average on Mean AHT and Mean AST')\n",
    "ax.set_xticks([i + bar_width / 2 for i in index])\n",
    "ax.set_xticklabels(silence_pivot_table['silence_category'])\n",
    "ax.legend()\n",
    "\n",
    "# Display the plot\n",
    "plt.tight_layout()\n",
    "plt.show()\n"
   ]
  },
  {
   "cell_type": "code",
   "execution_count": null,
   "metadata": {},
   "outputs": [],
   "source": []
  }
 ],
 "metadata": {
  "kernelspec": {
   "display_name": "Python 3",
   "language": "python",
   "name": "python3"
  },
  "language_info": {
   "codemirror_mode": {
    "name": "ipython",
    "version": 3
   },
   "file_extension": ".py",
   "mimetype": "text/x-python",
   "name": "python",
   "nbconvert_exporter": "python",
   "pygments_lexer": "ipython3",
   "version": "3.11.3"
  }
 },
 "nbformat": 4,
 "nbformat_minor": 2
}
